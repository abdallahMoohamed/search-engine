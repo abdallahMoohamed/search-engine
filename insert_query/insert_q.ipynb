{
 "cells": [
  {
   "cell_type": "code",
   "execution_count": null,
   "metadata": {},
   "outputs": [
    {
     "ename": "",
     "evalue": "",
     "output_type": "error",
     "traceback": [
      "\u001b[1;31mRunning cells with 'c:\\Users\\B2B\\AppData\\Local\\Programs\\Python\\Python312\\python.exe' requires the ipykernel package.\n",
      "\u001b[1;31mRun the following command to install 'ipykernel' into the Python environment. \n",
      "\u001b[1;31mCommand: 'c:/Users/B2B/AppData/Local/Programs/Python/Python312/python.exe -m pip install ipykernel -U --user --force-reinstall'"
     ]
    }
   ],
   "source": [
    "from turtle import pd\n",
    "from Phase_1 import document_of_terms as documents\n",
    "import pandas as pd\n",
    "import numpy as np\n",
    "import math \n",
    "\n",
    "all_words = []\n",
    "for doc in documents:\n",
    "  for word in doc:\n",
    "    all_words.append(word)\n",
    "  \n",
    "def get_term_freq(doc):\n",
    "  words_found = dict.fromkeys(all_words,0)\n",
    "  for word in doc:\n",
    "    words_found[word] +=1 \n",
    "  return words_found\n",
    "\n",
    "term_freq = pd.DataFrame(get_term_freq(documents[0]).values() , index = get_term_freq(documents[0]).keys())\n",
    "for i in range(1, len(documents)):\n",
    "  term_freq[i] = get_term_freq(documents[i]).values()\n",
    "term_freq.columns = ['doc'+str(i) for i in range(1,11)]\n",
    "\n",
    "def get_weighted_term_freq(x):\n",
    "  if x>0:\n",
    "    return math.log(x) + 1\n",
    "  else:\n",
    "    return 0\n",
    "for i in range(1, len(documents)+1):\n",
    "  term_freq['doc'+str(i)]= term_freq['doc'+str(i)].apply(get_weighted_term_freq)\n",
    "  \n",
    "# print(term_freq)\n",
    "\n",
    "\n",
    "\n",
    "# IDF and TF IDF\n",
    "tfd = pd.DataFrame(columns=['freq','idf'])\n",
    "for i in range(len(term_freq)):\n",
    "  frequency = term_freq.iloc[i].values.sum()\n",
    "  tfd.loc[i, 'freq'] = frequency\n",
    "  tfd.loc[i,'idf'] = math.log(10/ (float(frequency)))\n",
    "tfd.index = term_freq.index  \n",
    "# print(tfd)\n",
    "\n",
    "term_freq_mult_tfd = term_freq.multiply(tfd['idf'],axis=0)\n",
    "# print(term_freq_mult_tfd)\n",
    "\n",
    "\n",
    "\n",
    "# document length\n",
    "document_length = pd.DataFrame()\n",
    "\n",
    "def get_docs_length(col):\n",
    "  return np.sqrt(term_freq_mult_tfd[col].apply(lambda x:x**2).sum())\n",
    "\n",
    "for column in term_freq_mult_tfd.columns:\n",
    "  document_length.loc[0,column+\"_len\"] = get_docs_length(column)\n",
    "\n",
    "# print(document_length)\n",
    "\n",
    "# normalize TF.IDF \n",
    "normalized_term_freq_idf = pd.DataFrame()\n",
    "\n",
    "def get_normalized(col, x):\n",
    "  try:\n",
    "    return x / document_length[col+'_len'].values[0]\n",
    "  except:\n",
    "    return 0\n",
    "\n",
    "for column in term_freq_mult_tfd.columns:\n",
    "  normalized_term_freq_idf[column] = term_freq_mult_tfd[column].apply(lambda x: get_normalized(column,x))\n",
    "\n",
    "print(normalized_term_freq_idf)"
   ]
  }
 ],
 "metadata": {
  "kernelspec": {
   "display_name": "Python 3",
   "language": "python",
   "name": "python3"
  },
  "language_info": {
   "name": "python",
   "version": "3.12.0"
  }
 },
 "nbformat": 4,
 "nbformat_minor": 2
}
